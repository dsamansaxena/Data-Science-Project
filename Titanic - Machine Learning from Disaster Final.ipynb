{
 "cells": [
  {
   "cell_type": "markdown",
   "id": "071c3dd3",
   "metadata": {},
   "source": [
    "### The Challenge\n",
    "The sinking of the Titanic is one of the most infamous shipwrecks in history.\n",
    "\n",
    "On April 15, 1912, during her maiden voyage, the widely considered “unsinkable” RMS Titanic sank after colliding with an iceberg. Unfortunately, there weren’t enough lifeboats for everyone onboard, resulting in the death of 1502 out of 2224 passengers and crew.\n",
    "\n",
    "While there was some element of luck involved in surviving, it seems some groups of people were more likely to survive than others.\n",
    "\n",
    "**In this challenge, we ask you to build a predictive model that answers the question: “what sorts of people were more likely to survive?” using passenger data (ie name, age, gender, socio-economic class, etc).**"
   ]
  },
  {
   "cell_type": "markdown",
   "id": "5b224fe4",
   "metadata": {},
   "source": [
    "#### Data Dictionary\n",
    "\n",
    "* **survival**>>>>>>>>>>>>>> Survival\t0 = No, 1 = Yes,\n",
    "\n",
    "* **pclass**>>>>>>>>>>>>>>>\tTicket class\t1 = 1st, 2 = 2nd, 3 = 3rd\n",
    "\n",
    "* **sex**>>>>>>>>>>>>>>>>>>>>>>>>>\tSex\t\n",
    "\n",
    "* **Age**>>>>>>>>>>>>>>>>>\tAge in years\t\n",
    "* **sibsp** >>>>>>>>>>>>>>>\t# of siblings / spouses aboard the Titanic\t\n",
    "* **parch**>>>>>>>>>>>>>>>>>>>>\t# of parents / children aboard the Titanic\t\n",
    "* **ticket**>>>>>>>>>>>>>>>>>>>>>\tTicket number\t\n",
    "* **fare**>>>>>>>>>>>>>>>>>>>>>>\tPassenger fare\t\n",
    "* **cabin**>>>>>>>>>>>>>>>>>>>>>>>\tCabin number\t\n",
    "* **embarked**>>>>>>>>>>>>>>>>>>>\tPort of Embarkation\tC = Cherbourg, Q = Queenstown, S = Southampton\n",
    "* **pclass**:>>>>>>>>>>>>>>>>>>>>>>> A proxy for socio-economic status (SES)\n",
    "* **1st = Upper**\n",
    "* **2nd = Middle**\n",
    "* **3rd = Lower**\n",
    "\n",
    "* **age**: Age is fractional if less than 1. If the age is estimated, is it in the form of xx.5\n",
    "\n",
    "* **sibsp**: The dataset defines family relations in this way...\n",
    "* **Sibling** = brother, sister, stepbrother, stepsister\n",
    "* **Spouse** = husband, wife (mistresses and fiancés were ignored)\n",
    "\n",
    "* **parch**: The dataset defines family relations in this way...\n",
    "* **Parent** = mother, father\n",
    "* **Child** = daughter, son, stepdaughter, stepson\n",
    "* Some children travelled only with a nanny, therefore parch=0 for them."
   ]
  },
  {
   "cell_type": "markdown",
   "id": "a38eaeb6",
   "metadata": {},
   "source": [
    "* **Here the Target Variable is Survival** (0=Not Survived,1=Survived)"
   ]
  },
  {
   "cell_type": "markdown",
   "id": "2909f675",
   "metadata": {},
   "source": [
    "###### Evaluation Metric:Your score is the percentage of passengers you correctly predict. This is known as accuracy."
   ]
  },
  {
   "cell_type": "code",
   "execution_count": 1,
   "id": "66a7d23c",
   "metadata": {},
   "outputs": [],
   "source": [
    "import numpy as np\n",
    "import matplotlib.pyplot as plt\n",
    "import seaborn as sns\n",
    "import pandas as pd\n",
    "import warnings\n",
    "warnings.filterwarnings('ignore')\n",
    "pd.set_option('display.max_columns',100)\n",
    "import scipy.stats as stats\n",
    "import statsmodels.api  as sma\n",
    "from statsmodels.api import OLS\n",
    "import statsmodels.formula.api as sfa\n",
    "from sklearn.metrics import accuracy_score,roc_auc_score,roc_curve\n",
    "from sklearn.linear_model import LogisticRegression\n",
    "from sklearn.ensemble import RandomForestClassifier,AdaBoostClassifier,BaggingClassifier\n",
    "from sklearn.tree import DecisionTreeClassifier,plot_tree\n",
    "from sklearn.model_selection import train_test_split,GridSearchCV,StratifiedKFold,cross_val_score\n",
    "from sklearn.naive_bayes import GaussianNB\n",
    "from sklearn.ensemble import AdaBoostClassifier,BaggingClassifier,GradientBoostingClassifier,StackingClassifier,VotingClassifier\n",
    "from sklearn.neighbors import KNeighborsClassifier\n",
    "from xgboost import XGBClassifier\n",
    "from catboost import CatBoostClassifier\n",
    "from lightgbm  import LGBMClassifier\n"
   ]
  },
  {
   "cell_type": "markdown",
   "id": "a38b527d",
   "metadata": {},
   "source": [
    "* **Load the Train and Test Data**"
   ]
  },
  {
   "cell_type": "code",
   "execution_count": 2,
   "id": "d3a307de",
   "metadata": {},
   "outputs": [
    {
     "ename": "FileNotFoundError",
     "evalue": "[Errno 2] No such file or directory: 'C:\\\\Users\\\\saxen\\\\ML PROJECTS\\\\TITANIC\\\\train.csv'",
     "output_type": "error",
     "traceback": [
      "\u001b[1;31m---------------------------------------------------------------------------\u001b[0m",
      "\u001b[1;31mFileNotFoundError\u001b[0m                         Traceback (most recent call last)",
      "Cell \u001b[1;32mIn[2], line 1\u001b[0m\n\u001b[1;32m----> 1\u001b[0m train\u001b[38;5;241m=\u001b[39m\u001b[43mpd\u001b[49m\u001b[38;5;241;43m.\u001b[39;49m\u001b[43mread_csv\u001b[49m\u001b[43m(\u001b[49m\u001b[38;5;124;43mr\u001b[39;49m\u001b[38;5;124;43m\"\u001b[39;49m\u001b[38;5;124;43mC:\u001b[39;49m\u001b[38;5;124;43m\\\u001b[39;49m\u001b[38;5;124;43mUsers\u001b[39;49m\u001b[38;5;124;43m\\\u001b[39;49m\u001b[38;5;124;43msaxen\u001b[39;49m\u001b[38;5;124;43m\\\u001b[39;49m\u001b[38;5;124;43mML PROJECTS\u001b[39;49m\u001b[38;5;124;43m\\\u001b[39;49m\u001b[38;5;124;43mTITANIC\u001b[39;49m\u001b[38;5;124;43m\\\u001b[39;49m\u001b[38;5;124;43mtrain.csv\u001b[39;49m\u001b[38;5;124;43m\"\u001b[39;49m\u001b[43m)\u001b[49m\n\u001b[0;32m      2\u001b[0m test\u001b[38;5;241m=\u001b[39mpd\u001b[38;5;241m.\u001b[39mread_csv(\u001b[38;5;124mr\u001b[39m\u001b[38;5;124m\"\u001b[39m\u001b[38;5;124mC:\u001b[39m\u001b[38;5;124m\\\u001b[39m\u001b[38;5;124mUsers\u001b[39m\u001b[38;5;124m\\\u001b[39m\u001b[38;5;124msaxen\u001b[39m\u001b[38;5;124m\\\u001b[39m\u001b[38;5;124mML PROJECTS\u001b[39m\u001b[38;5;124m\\\u001b[39m\u001b[38;5;124mTITANIC\u001b[39m\u001b[38;5;124m\\\u001b[39m\u001b[38;5;124mtest.csv\u001b[39m\u001b[38;5;124m\"\u001b[39m)\n",
      "File \u001b[1;32mC:\\ProgramData\\anaconda3\\lib\\site-packages\\pandas\\util\\_decorators.py:211\u001b[0m, in \u001b[0;36mdeprecate_kwarg.<locals>._deprecate_kwarg.<locals>.wrapper\u001b[1;34m(*args, **kwargs)\u001b[0m\n\u001b[0;32m    209\u001b[0m     \u001b[38;5;28;01melse\u001b[39;00m:\n\u001b[0;32m    210\u001b[0m         kwargs[new_arg_name] \u001b[38;5;241m=\u001b[39m new_arg_value\n\u001b[1;32m--> 211\u001b[0m \u001b[38;5;28;01mreturn\u001b[39;00m func(\u001b[38;5;241m*\u001b[39margs, \u001b[38;5;241m*\u001b[39m\u001b[38;5;241m*\u001b[39mkwargs)\n",
      "File \u001b[1;32mC:\\ProgramData\\anaconda3\\lib\\site-packages\\pandas\\util\\_decorators.py:331\u001b[0m, in \u001b[0;36mdeprecate_nonkeyword_arguments.<locals>.decorate.<locals>.wrapper\u001b[1;34m(*args, **kwargs)\u001b[0m\n\u001b[0;32m    325\u001b[0m \u001b[38;5;28;01mif\u001b[39;00m \u001b[38;5;28mlen\u001b[39m(args) \u001b[38;5;241m>\u001b[39m num_allow_args:\n\u001b[0;32m    326\u001b[0m     warnings\u001b[38;5;241m.\u001b[39mwarn(\n\u001b[0;32m    327\u001b[0m         msg\u001b[38;5;241m.\u001b[39mformat(arguments\u001b[38;5;241m=\u001b[39m_format_argument_list(allow_args)),\n\u001b[0;32m    328\u001b[0m         \u001b[38;5;167;01mFutureWarning\u001b[39;00m,\n\u001b[0;32m    329\u001b[0m         stacklevel\u001b[38;5;241m=\u001b[39mfind_stack_level(),\n\u001b[0;32m    330\u001b[0m     )\n\u001b[1;32m--> 331\u001b[0m \u001b[38;5;28;01mreturn\u001b[39;00m func(\u001b[38;5;241m*\u001b[39margs, \u001b[38;5;241m*\u001b[39m\u001b[38;5;241m*\u001b[39mkwargs)\n",
      "File \u001b[1;32mC:\\ProgramData\\anaconda3\\lib\\site-packages\\pandas\\io\\parsers\\readers.py:950\u001b[0m, in \u001b[0;36mread_csv\u001b[1;34m(filepath_or_buffer, sep, delimiter, header, names, index_col, usecols, squeeze, prefix, mangle_dupe_cols, dtype, engine, converters, true_values, false_values, skipinitialspace, skiprows, skipfooter, nrows, na_values, keep_default_na, na_filter, verbose, skip_blank_lines, parse_dates, infer_datetime_format, keep_date_col, date_parser, dayfirst, cache_dates, iterator, chunksize, compression, thousands, decimal, lineterminator, quotechar, quoting, doublequote, escapechar, comment, encoding, encoding_errors, dialect, error_bad_lines, warn_bad_lines, on_bad_lines, delim_whitespace, low_memory, memory_map, float_precision, storage_options)\u001b[0m\n\u001b[0;32m    935\u001b[0m kwds_defaults \u001b[38;5;241m=\u001b[39m _refine_defaults_read(\n\u001b[0;32m    936\u001b[0m     dialect,\n\u001b[0;32m    937\u001b[0m     delimiter,\n\u001b[1;32m   (...)\u001b[0m\n\u001b[0;32m    946\u001b[0m     defaults\u001b[38;5;241m=\u001b[39m{\u001b[38;5;124m\"\u001b[39m\u001b[38;5;124mdelimiter\u001b[39m\u001b[38;5;124m\"\u001b[39m: \u001b[38;5;124m\"\u001b[39m\u001b[38;5;124m,\u001b[39m\u001b[38;5;124m\"\u001b[39m},\n\u001b[0;32m    947\u001b[0m )\n\u001b[0;32m    948\u001b[0m kwds\u001b[38;5;241m.\u001b[39mupdate(kwds_defaults)\n\u001b[1;32m--> 950\u001b[0m \u001b[38;5;28;01mreturn\u001b[39;00m \u001b[43m_read\u001b[49m\u001b[43m(\u001b[49m\u001b[43mfilepath_or_buffer\u001b[49m\u001b[43m,\u001b[49m\u001b[43m \u001b[49m\u001b[43mkwds\u001b[49m\u001b[43m)\u001b[49m\n",
      "File \u001b[1;32mC:\\ProgramData\\anaconda3\\lib\\site-packages\\pandas\\io\\parsers\\readers.py:605\u001b[0m, in \u001b[0;36m_read\u001b[1;34m(filepath_or_buffer, kwds)\u001b[0m\n\u001b[0;32m    602\u001b[0m _validate_names(kwds\u001b[38;5;241m.\u001b[39mget(\u001b[38;5;124m\"\u001b[39m\u001b[38;5;124mnames\u001b[39m\u001b[38;5;124m\"\u001b[39m, \u001b[38;5;28;01mNone\u001b[39;00m))\n\u001b[0;32m    604\u001b[0m \u001b[38;5;66;03m# Create the parser.\u001b[39;00m\n\u001b[1;32m--> 605\u001b[0m parser \u001b[38;5;241m=\u001b[39m TextFileReader(filepath_or_buffer, \u001b[38;5;241m*\u001b[39m\u001b[38;5;241m*\u001b[39mkwds)\n\u001b[0;32m    607\u001b[0m \u001b[38;5;28;01mif\u001b[39;00m chunksize \u001b[38;5;129;01mor\u001b[39;00m iterator:\n\u001b[0;32m    608\u001b[0m     \u001b[38;5;28;01mreturn\u001b[39;00m parser\n",
      "File \u001b[1;32mC:\\ProgramData\\anaconda3\\lib\\site-packages\\pandas\\io\\parsers\\readers.py:1442\u001b[0m, in \u001b[0;36mTextFileReader.__init__\u001b[1;34m(self, f, engine, **kwds)\u001b[0m\n\u001b[0;32m   1439\u001b[0m     \u001b[38;5;28mself\u001b[39m\u001b[38;5;241m.\u001b[39moptions[\u001b[38;5;124m\"\u001b[39m\u001b[38;5;124mhas_index_names\u001b[39m\u001b[38;5;124m\"\u001b[39m] \u001b[38;5;241m=\u001b[39m kwds[\u001b[38;5;124m\"\u001b[39m\u001b[38;5;124mhas_index_names\u001b[39m\u001b[38;5;124m\"\u001b[39m]\n\u001b[0;32m   1441\u001b[0m \u001b[38;5;28mself\u001b[39m\u001b[38;5;241m.\u001b[39mhandles: IOHandles \u001b[38;5;241m|\u001b[39m \u001b[38;5;28;01mNone\u001b[39;00m \u001b[38;5;241m=\u001b[39m \u001b[38;5;28;01mNone\u001b[39;00m\n\u001b[1;32m-> 1442\u001b[0m \u001b[38;5;28mself\u001b[39m\u001b[38;5;241m.\u001b[39m_engine \u001b[38;5;241m=\u001b[39m \u001b[38;5;28;43mself\u001b[39;49m\u001b[38;5;241;43m.\u001b[39;49m\u001b[43m_make_engine\u001b[49m\u001b[43m(\u001b[49m\u001b[43mf\u001b[49m\u001b[43m,\u001b[49m\u001b[43m \u001b[49m\u001b[38;5;28;43mself\u001b[39;49m\u001b[38;5;241;43m.\u001b[39;49m\u001b[43mengine\u001b[49m\u001b[43m)\u001b[49m\n",
      "File \u001b[1;32mC:\\ProgramData\\anaconda3\\lib\\site-packages\\pandas\\io\\parsers\\readers.py:1735\u001b[0m, in \u001b[0;36mTextFileReader._make_engine\u001b[1;34m(self, f, engine)\u001b[0m\n\u001b[0;32m   1733\u001b[0m     \u001b[38;5;28;01mif\u001b[39;00m \u001b[38;5;124m\"\u001b[39m\u001b[38;5;124mb\u001b[39m\u001b[38;5;124m\"\u001b[39m \u001b[38;5;129;01mnot\u001b[39;00m \u001b[38;5;129;01min\u001b[39;00m mode:\n\u001b[0;32m   1734\u001b[0m         mode \u001b[38;5;241m+\u001b[39m\u001b[38;5;241m=\u001b[39m \u001b[38;5;124m\"\u001b[39m\u001b[38;5;124mb\u001b[39m\u001b[38;5;124m\"\u001b[39m\n\u001b[1;32m-> 1735\u001b[0m \u001b[38;5;28mself\u001b[39m\u001b[38;5;241m.\u001b[39mhandles \u001b[38;5;241m=\u001b[39m \u001b[43mget_handle\u001b[49m\u001b[43m(\u001b[49m\n\u001b[0;32m   1736\u001b[0m \u001b[43m    \u001b[49m\u001b[43mf\u001b[49m\u001b[43m,\u001b[49m\n\u001b[0;32m   1737\u001b[0m \u001b[43m    \u001b[49m\u001b[43mmode\u001b[49m\u001b[43m,\u001b[49m\n\u001b[0;32m   1738\u001b[0m \u001b[43m    \u001b[49m\u001b[43mencoding\u001b[49m\u001b[38;5;241;43m=\u001b[39;49m\u001b[38;5;28;43mself\u001b[39;49m\u001b[38;5;241;43m.\u001b[39;49m\u001b[43moptions\u001b[49m\u001b[38;5;241;43m.\u001b[39;49m\u001b[43mget\u001b[49m\u001b[43m(\u001b[49m\u001b[38;5;124;43m\"\u001b[39;49m\u001b[38;5;124;43mencoding\u001b[39;49m\u001b[38;5;124;43m\"\u001b[39;49m\u001b[43m,\u001b[49m\u001b[43m \u001b[49m\u001b[38;5;28;43;01mNone\u001b[39;49;00m\u001b[43m)\u001b[49m\u001b[43m,\u001b[49m\n\u001b[0;32m   1739\u001b[0m \u001b[43m    \u001b[49m\u001b[43mcompression\u001b[49m\u001b[38;5;241;43m=\u001b[39;49m\u001b[38;5;28;43mself\u001b[39;49m\u001b[38;5;241;43m.\u001b[39;49m\u001b[43moptions\u001b[49m\u001b[38;5;241;43m.\u001b[39;49m\u001b[43mget\u001b[49m\u001b[43m(\u001b[49m\u001b[38;5;124;43m\"\u001b[39;49m\u001b[38;5;124;43mcompression\u001b[39;49m\u001b[38;5;124;43m\"\u001b[39;49m\u001b[43m,\u001b[49m\u001b[43m \u001b[49m\u001b[38;5;28;43;01mNone\u001b[39;49;00m\u001b[43m)\u001b[49m\u001b[43m,\u001b[49m\n\u001b[0;32m   1740\u001b[0m \u001b[43m    \u001b[49m\u001b[43mmemory_map\u001b[49m\u001b[38;5;241;43m=\u001b[39;49m\u001b[38;5;28;43mself\u001b[39;49m\u001b[38;5;241;43m.\u001b[39;49m\u001b[43moptions\u001b[49m\u001b[38;5;241;43m.\u001b[39;49m\u001b[43mget\u001b[49m\u001b[43m(\u001b[49m\u001b[38;5;124;43m\"\u001b[39;49m\u001b[38;5;124;43mmemory_map\u001b[39;49m\u001b[38;5;124;43m\"\u001b[39;49m\u001b[43m,\u001b[49m\u001b[43m \u001b[49m\u001b[38;5;28;43;01mFalse\u001b[39;49;00m\u001b[43m)\u001b[49m\u001b[43m,\u001b[49m\n\u001b[0;32m   1741\u001b[0m \u001b[43m    \u001b[49m\u001b[43mis_text\u001b[49m\u001b[38;5;241;43m=\u001b[39;49m\u001b[43mis_text\u001b[49m\u001b[43m,\u001b[49m\n\u001b[0;32m   1742\u001b[0m \u001b[43m    \u001b[49m\u001b[43merrors\u001b[49m\u001b[38;5;241;43m=\u001b[39;49m\u001b[38;5;28;43mself\u001b[39;49m\u001b[38;5;241;43m.\u001b[39;49m\u001b[43moptions\u001b[49m\u001b[38;5;241;43m.\u001b[39;49m\u001b[43mget\u001b[49m\u001b[43m(\u001b[49m\u001b[38;5;124;43m\"\u001b[39;49m\u001b[38;5;124;43mencoding_errors\u001b[39;49m\u001b[38;5;124;43m\"\u001b[39;49m\u001b[43m,\u001b[49m\u001b[43m \u001b[49m\u001b[38;5;124;43m\"\u001b[39;49m\u001b[38;5;124;43mstrict\u001b[39;49m\u001b[38;5;124;43m\"\u001b[39;49m\u001b[43m)\u001b[49m\u001b[43m,\u001b[49m\n\u001b[0;32m   1743\u001b[0m \u001b[43m    \u001b[49m\u001b[43mstorage_options\u001b[49m\u001b[38;5;241;43m=\u001b[39;49m\u001b[38;5;28;43mself\u001b[39;49m\u001b[38;5;241;43m.\u001b[39;49m\u001b[43moptions\u001b[49m\u001b[38;5;241;43m.\u001b[39;49m\u001b[43mget\u001b[49m\u001b[43m(\u001b[49m\u001b[38;5;124;43m\"\u001b[39;49m\u001b[38;5;124;43mstorage_options\u001b[39;49m\u001b[38;5;124;43m\"\u001b[39;49m\u001b[43m,\u001b[49m\u001b[43m \u001b[49m\u001b[38;5;28;43;01mNone\u001b[39;49;00m\u001b[43m)\u001b[49m\u001b[43m,\u001b[49m\n\u001b[0;32m   1744\u001b[0m \u001b[43m\u001b[49m\u001b[43m)\u001b[49m\n\u001b[0;32m   1745\u001b[0m \u001b[38;5;28;01massert\u001b[39;00m \u001b[38;5;28mself\u001b[39m\u001b[38;5;241m.\u001b[39mhandles \u001b[38;5;129;01mis\u001b[39;00m \u001b[38;5;129;01mnot\u001b[39;00m \u001b[38;5;28;01mNone\u001b[39;00m\n\u001b[0;32m   1746\u001b[0m f \u001b[38;5;241m=\u001b[39m \u001b[38;5;28mself\u001b[39m\u001b[38;5;241m.\u001b[39mhandles\u001b[38;5;241m.\u001b[39mhandle\n",
      "File \u001b[1;32mC:\\ProgramData\\anaconda3\\lib\\site-packages\\pandas\\io\\common.py:856\u001b[0m, in \u001b[0;36mget_handle\u001b[1;34m(path_or_buf, mode, encoding, compression, memory_map, is_text, errors, storage_options)\u001b[0m\n\u001b[0;32m    851\u001b[0m \u001b[38;5;28;01melif\u001b[39;00m \u001b[38;5;28misinstance\u001b[39m(handle, \u001b[38;5;28mstr\u001b[39m):\n\u001b[0;32m    852\u001b[0m     \u001b[38;5;66;03m# Check whether the filename is to be opened in binary mode.\u001b[39;00m\n\u001b[0;32m    853\u001b[0m     \u001b[38;5;66;03m# Binary mode does not support 'encoding' and 'newline'.\u001b[39;00m\n\u001b[0;32m    854\u001b[0m     \u001b[38;5;28;01mif\u001b[39;00m ioargs\u001b[38;5;241m.\u001b[39mencoding \u001b[38;5;129;01mand\u001b[39;00m \u001b[38;5;124m\"\u001b[39m\u001b[38;5;124mb\u001b[39m\u001b[38;5;124m\"\u001b[39m \u001b[38;5;129;01mnot\u001b[39;00m \u001b[38;5;129;01min\u001b[39;00m ioargs\u001b[38;5;241m.\u001b[39mmode:\n\u001b[0;32m    855\u001b[0m         \u001b[38;5;66;03m# Encoding\u001b[39;00m\n\u001b[1;32m--> 856\u001b[0m         handle \u001b[38;5;241m=\u001b[39m \u001b[38;5;28;43mopen\u001b[39;49m\u001b[43m(\u001b[49m\n\u001b[0;32m    857\u001b[0m \u001b[43m            \u001b[49m\u001b[43mhandle\u001b[49m\u001b[43m,\u001b[49m\n\u001b[0;32m    858\u001b[0m \u001b[43m            \u001b[49m\u001b[43mioargs\u001b[49m\u001b[38;5;241;43m.\u001b[39;49m\u001b[43mmode\u001b[49m\u001b[43m,\u001b[49m\n\u001b[0;32m    859\u001b[0m \u001b[43m            \u001b[49m\u001b[43mencoding\u001b[49m\u001b[38;5;241;43m=\u001b[39;49m\u001b[43mioargs\u001b[49m\u001b[38;5;241;43m.\u001b[39;49m\u001b[43mencoding\u001b[49m\u001b[43m,\u001b[49m\n\u001b[0;32m    860\u001b[0m \u001b[43m            \u001b[49m\u001b[43merrors\u001b[49m\u001b[38;5;241;43m=\u001b[39;49m\u001b[43merrors\u001b[49m\u001b[43m,\u001b[49m\n\u001b[0;32m    861\u001b[0m \u001b[43m            \u001b[49m\u001b[43mnewline\u001b[49m\u001b[38;5;241;43m=\u001b[39;49m\u001b[38;5;124;43m\"\u001b[39;49m\u001b[38;5;124;43m\"\u001b[39;49m\u001b[43m,\u001b[49m\n\u001b[0;32m    862\u001b[0m \u001b[43m        \u001b[49m\u001b[43m)\u001b[49m\n\u001b[0;32m    863\u001b[0m     \u001b[38;5;28;01melse\u001b[39;00m:\n\u001b[0;32m    864\u001b[0m         \u001b[38;5;66;03m# Binary mode\u001b[39;00m\n\u001b[0;32m    865\u001b[0m         handle \u001b[38;5;241m=\u001b[39m \u001b[38;5;28mopen\u001b[39m(handle, ioargs\u001b[38;5;241m.\u001b[39mmode)\n",
      "\u001b[1;31mFileNotFoundError\u001b[0m: [Errno 2] No such file or directory: 'C:\\\\Users\\\\saxen\\\\ML PROJECTS\\\\TITANIC\\\\train.csv'"
     ]
    }
   ],
   "source": [
    "train=pd.read_csv(r\"C:\\Users\\saxen\\ML PROJECTS\\TITANIC\\train.csv\")\n",
    "test=pd.read_csv(r\"C:\\Users\\saxen\\ML PROJECTS\\TITANIC\\test.csv\")"
   ]
  },
  {
   "cell_type": "code",
   "execution_count": null,
   "id": "434e7f78",
   "metadata": {},
   "outputs": [],
   "source": [
    "train.shape,test.shape"
   ]
  },
  {
   "cell_type": "code",
   "execution_count": null,
   "id": "8117441e",
   "metadata": {},
   "outputs": [],
   "source": [
    "train.head()"
   ]
  },
  {
   "cell_type": "code",
   "execution_count": null,
   "id": "e20dab98",
   "metadata": {
    "scrolled": true
   },
   "outputs": [],
   "source": [
    "test.head()"
   ]
  },
  {
   "cell_type": "markdown",
   "id": "abda66e8",
   "metadata": {},
   "source": [
    "###### Combine the Train and Test Dataset for further Analysis"
   ]
  },
  {
   "cell_type": "code",
   "execution_count": null,
   "id": "58b078e6",
   "metadata": {},
   "outputs": [],
   "source": [
    "combine=pd.concat([train,test],ignore_index=True)"
   ]
  },
  {
   "cell_type": "code",
   "execution_count": null,
   "id": "3ca128af",
   "metadata": {},
   "outputs": [],
   "source": [
    "combine.tail()"
   ]
  },
  {
   "cell_type": "code",
   "execution_count": null,
   "id": "e9610458",
   "metadata": {},
   "outputs": [],
   "source": [
    "combine.shape"
   ]
  },
  {
   "cell_type": "code",
   "execution_count": null,
   "id": "3657886c",
   "metadata": {},
   "outputs": [],
   "source": [
    "combine.info()"
   ]
  },
  {
   "cell_type": "code",
   "execution_count": null,
   "id": "5b00aa59",
   "metadata": {},
   "outputs": [],
   "source": [
    "combine.isnull().sum()/combine.shape[0]\n",
    "# More than 77% data for cabin is Missing"
   ]
  },
  {
   "cell_type": "code",
   "execution_count": null,
   "id": "15c06a08",
   "metadata": {},
   "outputs": [],
   "source": [
    "# Number of unique category in  each Features\n",
    "combine.nunique()"
   ]
  },
  {
   "cell_type": "code",
   "execution_count": null,
   "id": "09727ef0",
   "metadata": {},
   "outputs": [],
   "source": [
    "combine.describe()"
   ]
  },
  {
   "cell_type": "code",
   "execution_count": null,
   "id": "e3a22809",
   "metadata": {},
   "outputs": [],
   "source": [
    "cat_cols=combine.select_dtypes(include=object).columns\n",
    "num_cols=combine.select_dtypes(include=np.number).columns"
   ]
  },
  {
   "cell_type": "code",
   "execution_count": null,
   "id": "1b6a03b3",
   "metadata": {},
   "outputs": [],
   "source": [
    "cat_cols\n",
    "# Most of records in Name columns contains unique labels so i will not consider this columns for further visulaization\n",
    "# Also cabin,Ticket most of the records are unique"
   ]
  },
  {
   "cell_type": "code",
   "execution_count": null,
   "id": "6a115d73",
   "metadata": {},
   "outputs": [],
   "source": [
    "num_cols\n",
    "# Survived,Pclass,Sibsp,Parch are the categorical features"
   ]
  },
  {
   "cell_type": "code",
   "execution_count": null,
   "id": "727a1407",
   "metadata": {},
   "outputs": [],
   "source": [
    "cat_cols=['Sex','Embarked','Survived','Pclass','SibSp','Parch']\n",
    "num_cols=['Age','Fare']"
   ]
  },
  {
   "cell_type": "markdown",
   "id": "f7ca0623",
   "metadata": {},
   "source": [
    "# Univariate Analysis\n"
   ]
  },
  {
   "cell_type": "markdown",
   "id": "742e2d85",
   "metadata": {},
   "source": [
    "#### Numerical Columns"
   ]
  },
  {
   "cell_type": "code",
   "execution_count": null,
   "id": "4521aca9",
   "metadata": {},
   "outputs": [],
   "source": [
    "plt.figure(figsize=(20,10),dpi=500)\n",
    "nrows=1\n",
    "ncols=2\n",
    "rep=1\n",
    "for i in num_cols:\n",
    "    plt.subplot(nrows,ncols,rep)\n",
    "    sns.distplot(combine[i])\n",
    "    rep=rep+1\n",
    "    plt.title(i,fontdict={'fontsize':10})\n",
    "plt.tight_layout()\n",
    "plt.show()"
   ]
  },
  {
   "cell_type": "markdown",
   "id": "5dd2cc1b",
   "metadata": {},
   "source": [
    "#### Observation From the Above Distribution Plot\n",
    "* Age we can see the distribution of age is looks like normal distributions and most of the passenger who are travelling are\n",
    "  lies in the age range of 20 to 60.\n",
    "* There are some Passenger who are more than 80 age also\n",
    "* The distributions of Fare columns is looklikes highly right/positively skewed,it means that there are some passengers \n",
    "  who paid high amount,at Zero Fare amount the peak is high.\n",
    "* So as i guess/my hpothesis ,imagine that the fare amount for which the passenger_id is zero he/she might be a staff/workers of titanic"
   ]
  },
  {
   "cell_type": "code",
   "execution_count": null,
   "id": "5ea6d8b1",
   "metadata": {},
   "outputs": [],
   "source": [
    "plt.figure(figsize=(20,10),dpi=500)\n",
    "nrows=1\n",
    "ncols=2\n",
    "rep=1\n",
    "for i in num_cols:\n",
    "    plt.subplot(nrows,ncols,rep)\n",
    "    sns.boxplot(combine[i])\n",
    "    plt.title('Skewness of %s id %.2f'%(i,combine[i].skew()))\n",
    "    rep=rep+1\n",
    "plt.tight_layout()\n",
    "plt.show()"
   ]
  },
  {
   "cell_type": "markdown",
   "id": "e9a5ad0a",
   "metadata": {},
   "source": [
    "### Categorical Columns"
   ]
  },
  {
   "cell_type": "code",
   "execution_count": null,
   "id": "023430ee",
   "metadata": {},
   "outputs": [],
   "source": [
    "# combine.Sex.value_counts().plot(kind=\"bar\")"
   ]
  },
  {
   "cell_type": "code",
   "execution_count": null,
   "id": "976a0239",
   "metadata": {},
   "outputs": [],
   "source": [
    "plt.figure(figsize=(20,10),dpi=500)\n",
    "nrows=2\n",
    "ncols=3\n",
    "rep=1\n",
    "for i in cat_cols:\n",
    "    plt.subplot(nrows,ncols,rep)\n",
    "    sns.countplot(x=combine[i])\n",
    "    rep=rep+1\n",
    "    \n",
    "plt.tight_layout()\n",
    "plt.show()"
   ]
  },
  {
   "cell_type": "markdown",
   "id": "061e54fe",
   "metadata": {},
   "source": [
    "#### Obseravtion from the Above Plot\n",
    "* Most of the Passengers who are Travelling are Male,Here i assume/think that Most of the passenger who not survived are Male\n",
    "* Most of the passengers are started there journey from southhampton/ most of the Passengers belongs to southampton\n",
    "* The number of passengers who died is more than the number of passengers who survived\n",
    "* Most of the passenger who are traveling are belongs to pclass3,so my hopthesis  say that most of the passenger who died are belongs to pclass 3.\n",
    "* Most of the passengers who are travellings are alone or i can say with one siblings or spouse and maximum sibings or spouse \n",
    "  a traveller travel with is 8 as seen from the above plot.\n",
    "* A maximum of 9 parents/children traveled along with one of the traveler.Most of the passengers/travellers are travelling alone.\n",
    "\n",
    "\n"
   ]
  },
  {
   "cell_type": "markdown",
   "id": "cb3be74d",
   "metadata": {},
   "source": [
    "## Bivariate Analysis"
   ]
  },
  {
   "cell_type": "markdown",
   "id": "2887e4cc",
   "metadata": {},
   "source": [
    "### Numeric vs Categoric(Tgt)"
   ]
  },
  {
   "cell_type": "code",
   "execution_count": null,
   "id": "7aa0d998",
   "metadata": {},
   "outputs": [],
   "source": [
    "plt.figure(figsize=(30,10),dpi=500)\n",
    "nrows=1\n",
    "ncols=2\n",
    "rep=1\n",
    "for i in num_cols:\n",
    "    plt.subplot(nrows,ncols,rep)\n",
    "    sns.boxplot(x=combine.Survived,y=combine[i])\n",
    "    rep=rep+1\n",
    "plt.tight_layout()\n",
    "plt.show()"
   ]
  },
  {
   "cell_type": "markdown",
   "id": "81a88eee",
   "metadata": {},
   "source": [
    "#### Observation From the above plot:\n",
    "* Passenger who are younger are high chance of survival as compared to older.\n",
    "* The passenger who paid the high fare amount are high chance of survival."
   ]
  },
  {
   "cell_type": "markdown",
   "id": "e26c135a",
   "metadata": {},
   "source": [
    "### Categoric vs Categoric(Tgt)"
   ]
  },
  {
   "cell_type": "code",
   "execution_count": null,
   "id": "4821565b",
   "metadata": {},
   "outputs": [],
   "source": [
    "#Pclass vs Survived\n",
    "pd.crosstab(combine.Pclass,combine.Survived)"
   ]
  },
  {
   "cell_type": "code",
   "execution_count": null,
   "id": "c9453c25",
   "metadata": {},
   "outputs": [],
   "source": [
    "pd.crosstab(combine.Pclass,combine.Survived).plot(kind='bar')\n",
    "plt.title('Pclass Vs Survived')\n",
    "plt.show()\n",
    "#class 3 passenger are the most who did not survived as compare to others class passenger and class 1 passenger are\n",
    "#higher survival rates..."
   ]
  },
  {
   "cell_type": "code",
   "execution_count": null,
   "id": "ddc3a4cc",
   "metadata": {},
   "outputs": [],
   "source": [
    "sns.boxplot(x =combine.Survived,y=combine.Pclass)\n",
    "plt.show()"
   ]
  },
  {
   "cell_type": "code",
   "execution_count": null,
   "id": "41c82aeb",
   "metadata": {},
   "outputs": [],
   "source": [
    "pd.crosstab(combine.Sex,combine.Survived).plot(kind='bar')\n",
    "plt.title('Gender vs Survived')\n",
    "plt.show()\n",
    "\n",
    "# Feamle passenger are Survived the most as compare to Male"
   ]
  },
  {
   "cell_type": "code",
   "execution_count": null,
   "id": "9583857d",
   "metadata": {},
   "outputs": [],
   "source": [
    "# Sibsp vs Survived\n",
    "pd.crosstab(combine.SibSp,combine.Survived).plot(kind='bar')\n",
    "plt.title('Sibsp vs Survived')\n",
    "plt.show()\n",
    "#Singles and couples are survived the most"
   ]
  },
  {
   "cell_type": "code",
   "execution_count": null,
   "id": "2b4722e2",
   "metadata": {},
   "outputs": [],
   "source": [
    "# Parch vs Survived\n",
    "pd.crosstab(combine.Parch,combine.Survived).plot(kind='bar')\n",
    "plt.title('Parch vs Survived')\n",
    "plt.show()\n",
    "# Solo travellers and two family members are able to survived most....."
   ]
  },
  {
   "cell_type": "code",
   "execution_count": null,
   "id": "b40f89e5",
   "metadata": {},
   "outputs": [],
   "source": [
    "# Embarked vs Survived\n",
    "pd.crosstab(combine.Embarked,combine.Survived).plot(kind='bar')\n",
    "plt.title('Embarked Vs Survived')\n",
    "plt.show()\n",
    "#chebourgs have high chances of survival..."
   ]
  },
  {
   "cell_type": "code",
   "execution_count": null,
   "id": "5a5e6718",
   "metadata": {},
   "outputs": [],
   "source": [
    "combine.groupby('Embarked')['Survived'].value_counts(normalize=True)\n",
    "# people from chebourgs are survived more in terms of percentage approx 55%"
   ]
  },
  {
   "cell_type": "code",
   "execution_count": null,
   "id": "8aa2ec06",
   "metadata": {},
   "outputs": [],
   "source": [
    "combine.groupby(['Embarked','Pclass'])['Survived'].value_counts(normalize=True)"
   ]
  },
  {
   "cell_type": "markdown",
   "id": "cedd3295",
   "metadata": {},
   "source": [
    "## Missing Values"
   ]
  },
  {
   "cell_type": "code",
   "execution_count": null,
   "id": "d3aabb57",
   "metadata": {},
   "outputs": [],
   "source": [
    "combine.isnull().sum()"
   ]
  },
  {
   "cell_type": "code",
   "execution_count": null,
   "id": "007d9fc4",
   "metadata": {},
   "outputs": [],
   "source": [
    "(combine.isnull().sum()/combine.shape[0])*100\n",
    "# Approx 21% data of Age are Missing\n",
    "# Approx 78% data of Cambin are Mising\n",
    "# The missing value which show in survived actually it is from the test dataset and as we know in test their is no target variable\n",
    "# so we will drop this columns later from the test dataset"
   ]
  },
  {
   "cell_type": "code",
   "execution_count": null,
   "id": "8f65ab3f",
   "metadata": {},
   "outputs": [],
   "source": [
    "combine.Age.describe()"
   ]
  },
  {
   "cell_type": "code",
   "execution_count": null,
   "id": "0204e19a",
   "metadata": {},
   "outputs": [],
   "source": [
    "combine.groupby(['Pclass','Sex'])['Age'].describe()"
   ]
  },
  {
   "cell_type": "markdown",
   "id": "5d999676",
   "metadata": {},
   "source": [
    "* **Lets split the Name of the passengers,as each name of the passengers contains salutation so,I can extract the salutaion and see the distribution of age accordingly**"
   ]
  },
  {
   "cell_type": "code",
   "execution_count": null,
   "id": "554cb94e",
   "metadata": {},
   "outputs": [],
   "source": [
    "combine.head(1)"
   ]
  },
  {
   "cell_type": "code",
   "execution_count": null,
   "id": "e5726586",
   "metadata": {},
   "outputs": [],
   "source": [
    "combine.Name[0].split(\", \")[1].split(\". \")[0]"
   ]
  },
  {
   "cell_type": "code",
   "execution_count": null,
   "id": "e9c0c34b",
   "metadata": {},
   "outputs": [],
   "source": [
    "# Extracting Salutation from each Name\n",
    "title=[]\n",
    "for i in combine.Name:\n",
    "    title.append(i.split(', ')[1].split('.')[0])\n",
    "    "
   ]
  },
  {
   "cell_type": "code",
   "execution_count": null,
   "id": "e753ea5b",
   "metadata": {},
   "outputs": [],
   "source": [
    "combine['Title']=pd.Series(title)"
   ]
  },
  {
   "cell_type": "code",
   "execution_count": null,
   "id": "05aa4550",
   "metadata": {},
   "outputs": [],
   "source": [
    "combine.head(1)"
   ]
  },
  {
   "cell_type": "code",
   "execution_count": null,
   "id": "9628dfd8",
   "metadata": {},
   "outputs": [],
   "source": [
    "# Lest see the distribution of Salutation in the dataset\n",
    "combine.Title.value_counts(normalize=True)"
   ]
  },
  {
   "cell_type": "code",
   "execution_count": null,
   "id": "ef0e5b4c",
   "metadata": {},
   "outputs": [],
   "source": [
    "combine.Title.value_counts(normalize=True).plot(kind='bar')\n",
    "plt.title('Distribution of Type of Salutaion in Dataset')\n",
    "plt.show()\n",
    "# So from the below plot i can say that most of the person who are travelling are Mr(Mister)>age18 and followes by Miss,Mrs,Master"
   ]
  },
  {
   "cell_type": "code",
   "execution_count": null,
   "id": "21bf097f",
   "metadata": {
    "scrolled": false
   },
   "outputs": [],
   "source": [
    "# Now lets check the Age distribution with Respect to Title\n",
    "combine.groupby('Title')['Age'].describe()\n",
    "# This distribution of Age Make More sense"
   ]
  },
  {
   "cell_type": "code",
   "execution_count": null,
   "id": "ed777002",
   "metadata": {},
   "outputs": [],
   "source": [
    "combine.Title.unique()\n",
    "# There are total 18 unique title"
   ]
  },
  {
   "cell_type": "code",
   "execution_count": null,
   "id": "7125b9e3",
   "metadata": {},
   "outputs": [],
   "source": [
    "title_ignore=['Don', 'Rev', 'Dr', 'Mme',\n",
    "       'Major', 'Lady', 'Sir', 'Mlle', 'Col', 'Capt', 'the Countess',\n",
    "       'Jonkheer', 'Dona']\n",
    "len(title_ignore)"
   ]
  },
  {
   "cell_type": "markdown",
   "id": "e8683c18",
   "metadata": {},
   "source": [
    "* **Binnig the title columns from 18 categories to 6 categories as must of the person belongs to the title (Mr,Mrs,Miss,Master,Ms) and rest of the title grouping with others category**"
   ]
  },
  {
   "cell_type": "code",
   "execution_count": null,
   "id": "003cee3e",
   "metadata": {},
   "outputs": [],
   "source": [
    "def ignore(x):\n",
    "    if x in title_ignore:\n",
    "        return ('Others')\n",
    "    else:\n",
    "        return (x)"
   ]
  },
  {
   "cell_type": "code",
   "execution_count": null,
   "id": "cdf8fca7",
   "metadata": {},
   "outputs": [],
   "source": [
    "combine['Titles']=combine.Title.apply(ignore)"
   ]
  },
  {
   "cell_type": "code",
   "execution_count": null,
   "id": "02578fcf",
   "metadata": {},
   "outputs": [],
   "source": [
    "combine.head()"
   ]
  },
  {
   "cell_type": "code",
   "execution_count": null,
   "id": "04627dba",
   "metadata": {},
   "outputs": [],
   "source": [
    "combine.groupby('Titles')['Age'].describe()"
   ]
  },
  {
   "cell_type": "code",
   "execution_count": null,
   "id": "8318ab61",
   "metadata": {},
   "outputs": [],
   "source": [
    "pd.crosstab(combine.Titles,combine.Survived).plot(kind='bar')\n",
    "plt.show()\n",
    "# Mr(Mister) Person are Died/Not Survived the Most as compares to others category"
   ]
  },
  {
   "cell_type": "code",
   "execution_count": null,
   "id": "96524770",
   "metadata": {},
   "outputs": [],
   "source": [
    "# Dealing with Missing value of Age as per the Titles Column\n",
    "combine['Age']=combine.groupby('Titles')['Age'].apply(lambda x:x.fillna(x.median()))"
   ]
  },
  {
   "cell_type": "code",
   "execution_count": null,
   "id": "94f97c35",
   "metadata": {},
   "outputs": [],
   "source": [
    "combine.head(1)"
   ]
  },
  {
   "cell_type": "code",
   "execution_count": null,
   "id": "8fe900a5",
   "metadata": {},
   "outputs": [],
   "source": [
    "combine.groupby('Titles')['Age'].describe()"
   ]
  },
  {
   "cell_type": "code",
   "execution_count": null,
   "id": "77a3a210",
   "metadata": {},
   "outputs": [],
   "source": [
    "combine.isnull().sum()"
   ]
  },
  {
   "cell_type": "code",
   "execution_count": null,
   "id": "50808005",
   "metadata": {},
   "outputs": [],
   "source": [
    "# Dealing with the Missing values in Fare columns"
   ]
  },
  {
   "cell_type": "code",
   "execution_count": null,
   "id": "f1aab798",
   "metadata": {},
   "outputs": [],
   "source": [
    "combine.loc[combine.Fare.isnull(),['Fare']]=combine.loc[(combine.Titles=='Mr')&(combine.Pclass==3)&(combine.Embarked=='S')]['Fare'].median()"
   ]
  },
  {
   "cell_type": "code",
   "execution_count": null,
   "id": "5f53d05e",
   "metadata": {},
   "outputs": [],
   "source": [
    "combine.loc[(combine.Titles=='Mr')&(combine.Pclass==3)&(combine.Embarked=='S')]['Fare'].median()"
   ]
  },
  {
   "cell_type": "code",
   "execution_count": null,
   "id": "9cf6be9d",
   "metadata": {},
   "outputs": [],
   "source": [
    "combine.isnull().sum()"
   ]
  },
  {
   "cell_type": "code",
   "execution_count": null,
   "id": "ec988c17",
   "metadata": {},
   "outputs": [],
   "source": [
    "# Dealing with Missin Value of Cabin"
   ]
  },
  {
   "cell_type": "code",
   "execution_count": null,
   "id": "9df7363d",
   "metadata": {},
   "outputs": [],
   "source": [
    "combine.Cabin.value_counts()"
   ]
  },
  {
   "cell_type": "code",
   "execution_count": null,
   "id": "3eaff270",
   "metadata": {},
   "outputs": [],
   "source": [
    "combine.Cabin.unique()"
   ]
  },
  {
   "cell_type": "code",
   "execution_count": null,
   "id": "73299c61",
   "metadata": {},
   "outputs": [],
   "source": [
    "cabin_avbl=['C85', 'C123', 'E46', 'G6', 'C103', 'D56', 'A6',\n",
    "       'C23 C25 C27', 'B78', 'D33', 'B30', 'C52', 'B28', 'C83', 'F33',\n",
    "       'F G73', 'E31', 'A5', 'D10 D12', 'D26', 'C110', 'B58 B60', 'E101',\n",
    "       'F E69', 'D47', 'B86', 'F2', 'C2', 'E33', 'B19', 'A7', 'C49', 'F4',\n",
    "       'A32', 'B4', 'B80', 'A31', 'D36', 'D15', 'C93', 'C78', 'D35',\n",
    "       'C87', 'B77', 'E67', 'B94', 'C125', 'C99', 'C118', 'D7', 'A19',\n",
    "       'B49', 'D', 'C22 C26', 'C106', 'C65', 'E36', 'C54',\n",
    "       'B57 B59 B63 B66', 'C7', 'E34', 'C32', 'B18', 'C124', 'C91', 'E40',\n",
    "       'T', 'C128', 'D37', 'B35', 'E50', 'C82', 'B96 B98', 'E10', 'E44',\n",
    "       'A34', 'C104', 'C111', 'C92', 'E38', 'D21', 'E12', 'E63', 'A14',\n",
    "       'B37', 'C30', 'D20', 'B79', 'E25', 'D46', 'B73', 'C95', 'B38',\n",
    "       'B39', 'B22', 'C86', 'C70', 'A16', 'C101', 'C68', 'A10', 'E68',\n",
    "       'B41', 'A20', 'D19', 'D50', 'D9', 'A23', 'B50', 'A26', 'D48',\n",
    "       'E58', 'C126', 'B71', 'B51 B53 B55', 'D49', 'B5', 'B20', 'F G63',\n",
    "       'C62 C64', 'E24', 'C90', 'C45', 'E8', 'B101', 'D45', 'C46', 'D30',\n",
    "       'E121', 'D11', 'E77', 'F38', 'B3', 'D6', 'B82 B84', 'D17', 'A36',\n",
    "       'B102', 'B69', 'E49', 'C47', 'D28', 'E17', 'A24', 'C50', 'B42',\n",
    "       'C148', 'B45', 'B36', 'A21', 'D34', 'A9', 'C31', 'B61', 'C53',\n",
    "       'D43', 'C130', 'C132', 'C55 C57', 'C116', 'F', 'A29', 'C6', 'C28',\n",
    "       'C51', 'C97', 'D22', 'B10', 'E45', 'E52', 'A11', 'B11', 'C80',\n",
    "       'C89', 'F E46', 'B26', 'F E57', 'A18', 'E60', 'E39 E41',\n",
    "       'B52 B54 B56', 'C39', 'B24', 'D40', 'D38', 'C105']"
   ]
  },
  {
   "cell_type": "code",
   "execution_count": null,
   "id": "cb301e82",
   "metadata": {},
   "outputs": [],
   "source": [
    "len(cabin_avbl)\n",
    "#Total 187 cabin are availabels"
   ]
  },
  {
   "cell_type": "code",
   "execution_count": null,
   "id": "56ca46d6",
   "metadata": {},
   "outputs": [],
   "source": [
    "def available(x):\n",
    "    if x in cabin_avbl:\n",
    "        return ('Cabin Available')\n",
    "    else:\n",
    "        return('Cabin Not_Available')"
   ]
  },
  {
   "cell_type": "code",
   "execution_count": null,
   "id": "0f311d4c",
   "metadata": {},
   "outputs": [],
   "source": [
    "# AS 77% of data in cabin columns are missing so we extract a new columns from cabin that is Cabin Avalability\n",
    "combine['Cabin_Avalability']=combine.Cabin.apply(available)"
   ]
  },
  {
   "cell_type": "code",
   "execution_count": null,
   "id": "65673d6a",
   "metadata": {},
   "outputs": [],
   "source": [
    "combine.head()"
   ]
  },
  {
   "cell_type": "code",
   "execution_count": null,
   "id": "ff7be193",
   "metadata": {},
   "outputs": [],
   "source": [
    "pd.crosstab(combine.Cabin_Avalability,combine.Survived).plot(kind='bar')\n",
    "plt.show()\n",
    "#Inference: Cabin_Available passengers are survived more as compare to Cabin not available Passengers"
   ]
  },
  {
   "cell_type": "code",
   "execution_count": null,
   "id": "4ea69d4a",
   "metadata": {},
   "outputs": [],
   "source": [
    "combine.Cabin_Avalability.value_counts()"
   ]
  },
  {
   "cell_type": "code",
   "execution_count": null,
   "id": "fdf81444",
   "metadata": {},
   "outputs": [],
   "source": [
    "combine.head(1)"
   ]
  },
  {
   "cell_type": "markdown",
   "id": "b4b0ef9c",
   "metadata": {},
   "source": [
    "* **In column Cabin approx 77% data are missing,so as per theory it say that if there will be any columns contains missing\n",
    "value more than 60% we simply drops but i am not dropping here i extract a intelligence from this and create a new columns\n",
    "Cabin_Avalability and Check the relation with Target it make more sense**"
   ]
  },
  {
   "cell_type": "code",
   "execution_count": null,
   "id": "2e91e27a",
   "metadata": {},
   "outputs": [],
   "source": [
    "combine.isnull().sum()"
   ]
  },
  {
   "cell_type": "code",
   "execution_count": null,
   "id": "8f04a77a",
   "metadata": {},
   "outputs": [],
   "source": [
    "new_data=combine.drop(['Name','PassengerId','Ticket','Cabin','Title'],axis=1)\n",
    "# Drop the Unncessary columns "
   ]
  },
  {
   "cell_type": "code",
   "execution_count": null,
   "id": "3a6a1ced",
   "metadata": {},
   "outputs": [],
   "source": [
    "new_data.head()"
   ]
  },
  {
   "cell_type": "code",
   "execution_count": null,
   "id": "d794d7b0",
   "metadata": {},
   "outputs": [],
   "source": [
    "# Family\n",
    "# Combine all the attributes like,SibSp,Parch\n",
    "new_data['Family']=new_data.SibSp+new_data.Parch+1"
   ]
  },
  {
   "cell_type": "code",
   "execution_count": null,
   "id": "d60f9561",
   "metadata": {},
   "outputs": [],
   "source": [
    "new_data.head(1)"
   ]
  },
  {
   "cell_type": "code",
   "execution_count": null,
   "id": "d7fdedcc",
   "metadata": {},
   "outputs": [],
   "source": [
    "pd.crosstab(new_data.Family,new_data.Survived).plot(kind='bar')\n",
    "plt.title('Family Vs Survived')\n",
    "plt.show()\n",
    "#People who are travelling alone and copules are high chance of survival"
   ]
  },
  {
   "cell_type": "code",
   "execution_count": null,
   "id": "215145dd",
   "metadata": {},
   "outputs": [],
   "source": [
    "# Binnig Family\n",
    "new_data\n",
    "def fam(x):\n",
    "    if x>=5:\n",
    "        return ('Large_Family')\n",
    "    elif (x>=3):\n",
    "        return ('Small_Family')\n",
    "    elif (x==2):\n",
    "        return ('Couples')\n",
    "    else:\n",
    "        return ('Singles')"
   ]
  },
  {
   "cell_type": "code",
   "execution_count": null,
   "id": "df392a02",
   "metadata": {},
   "outputs": [],
   "source": [
    "new_data['Family_Cat']=new_data.Family.apply(fam)"
   ]
  },
  {
   "cell_type": "code",
   "execution_count": null,
   "id": "dc9a67c1",
   "metadata": {},
   "outputs": [],
   "source": [
    "new_data.head(1)"
   ]
  },
  {
   "cell_type": "code",
   "execution_count": null,
   "id": "217322f6",
   "metadata": {},
   "outputs": [],
   "source": [
    "pd.crosstab(new_data.Family_Cat,new_data.Survived).plot(kind='bar')\n",
    "plt.title('Family_Cat Vs Survived')\n",
    "plt.show()\n",
    "# Couples and Small_Family passengers are high chance of survival"
   ]
  },
  {
   "cell_type": "code",
   "execution_count": null,
   "id": "31e855ff",
   "metadata": {},
   "outputs": [],
   "source": [
    "new_data.head(1)"
   ]
  },
  {
   "cell_type": "code",
   "execution_count": null,
   "id": "1931cd2f",
   "metadata": {},
   "outputs": [],
   "source": [
    "# Fare Per Person\n",
    "new_data['Fare_Per_Head']=new_data.Fare/new_data.Family"
   ]
  },
  {
   "cell_type": "code",
   "execution_count": null,
   "id": "78c6b444",
   "metadata": {},
   "outputs": [],
   "source": [
    "new_data.head(1)"
   ]
  },
  {
   "cell_type": "code",
   "execution_count": null,
   "id": "50400bfa",
   "metadata": {},
   "outputs": [],
   "source": [
    "new_data[new_data.Fare==0]"
   ]
  },
  {
   "cell_type": "code",
   "execution_count": null,
   "id": "d2f83343",
   "metadata": {},
   "outputs": [],
   "source": [
    "new_data.isnull().sum()"
   ]
  },
  {
   "cell_type": "code",
   "execution_count": null,
   "id": "f4fd03f4",
   "metadata": {},
   "outputs": [],
   "source": [
    "new_data.loc[(new_data.Pclass==3)&(new_data.Titles=='Mr')&(new_data.Cabin_Avalability=='Cabin Not_Available')&\n",
    "       (new_data.Family_Cat=='Singles'),'Fare'].median()"
   ]
  },
  {
   "cell_type": "code",
   "execution_count": null,
   "id": "ed98a68e",
   "metadata": {},
   "outputs": [],
   "source": [
    "new_data.loc[new_data.Fare.isnull(),'Fare']=new_data.loc[(new_data.Pclass==3)&(new_data.Titles=='Mr')&(new_data.Cabin_Avalability=='Cabin Not_Available')&\n",
    "       (new_data.Family_Cat=='Singles'),'Fare'].median()"
   ]
  },
  {
   "cell_type": "code",
   "execution_count": null,
   "id": "14dba4c3",
   "metadata": {},
   "outputs": [],
   "source": [
    "new_data.isnull().sum()"
   ]
  },
  {
   "cell_type": "code",
   "execution_count": null,
   "id": "562b7670",
   "metadata": {},
   "outputs": [],
   "source": [
    "new_data[new_data.Embarked.isnull()]"
   ]
  },
  {
   "cell_type": "code",
   "execution_count": null,
   "id": "32a559c0",
   "metadata": {},
   "outputs": [],
   "source": [
    "new_data.loc[\n",
    "            (new_data.Sex=='female')&(new_data.Family_Cat=='Singles')&(new_data.Pclass==1),'Embarked'].mode()[0]"
   ]
  },
  {
   "cell_type": "code",
   "execution_count": null,
   "id": "f386ef03",
   "metadata": {},
   "outputs": [],
   "source": [
    "new_data.loc[new_data.Embarked.isnull(),'Embarked']='C'"
   ]
  },
  {
   "cell_type": "code",
   "execution_count": null,
   "id": "7325f721",
   "metadata": {},
   "outputs": [],
   "source": [
    "new_data.Survived.value_counts()"
   ]
  },
  {
   "cell_type": "code",
   "execution_count": null,
   "id": "714caf5f",
   "metadata": {},
   "outputs": [],
   "source": [
    "new_data['Magic_1']=new_data.groupby(['Sex','Embarked','Titles','Cabin_Avalability'])['Pclass'].transform('count')"
   ]
  },
  {
   "cell_type": "code",
   "execution_count": null,
   "id": "7eba6047",
   "metadata": {},
   "outputs": [],
   "source": [
    "new_data['Magic_2']=new_data.groupby(['Pclass','Embarked','Titles','Cabin_Avalability','Family_Cat'])['Fare'].transform('median')"
   ]
  },
  {
   "cell_type": "code",
   "execution_count": null,
   "id": "31c17dd7",
   "metadata": {},
   "outputs": [],
   "source": [
    "new_data.head(1)"
   ]
  },
  {
   "cell_type": "code",
   "execution_count": null,
   "id": "2f6c37f7",
   "metadata": {},
   "outputs": [],
   "source": [
    "new_data.corr()\n",
    "# Magic_2,Fare_per_head,Fare,Pclass,Magic_1 are having good correlation with Target"
   ]
  },
  {
   "cell_type": "code",
   "execution_count": null,
   "id": "1ec2d459",
   "metadata": {},
   "outputs": [],
   "source": [
    "sns.boxplot(x=new_data.Survived,y=new_data.Magic_1)\n",
    "plt.show()"
   ]
  },
  {
   "cell_type": "code",
   "execution_count": null,
   "id": "418280f9",
   "metadata": {},
   "outputs": [],
   "source": [
    "sns.boxplot(x=new_data.Survived,y=new_data.Magic_2)\n",
    "plt.show()"
   ]
  },
  {
   "cell_type": "code",
   "execution_count": null,
   "id": "598cdf03",
   "metadata": {},
   "outputs": [],
   "source": [
    "new_data.head()"
   ]
  },
  {
   "cell_type": "markdown",
   "id": "2b8a54a9",
   "metadata": {},
   "source": [
    "#### Lets perform Statistical Test with Target for all the features"
   ]
  },
  {
   "cell_type": "code",
   "execution_count": null,
   "id": "9fd4b5e0",
   "metadata": {},
   "outputs": [],
   "source": [
    "new_data.nunique()"
   ]
  },
  {
   "cell_type": "code",
   "execution_count": null,
   "id": "c3fd766a",
   "metadata": {},
   "outputs": [],
   "source": [
    "new_data.select_dtypes(include=np.number).columns"
   ]
  },
  {
   "cell_type": "code",
   "execution_count": null,
   "id": "dd3eac3a",
   "metadata": {},
   "outputs": [],
   "source": [
    "new_data.select_dtypes(include=object).columns"
   ]
  },
  {
   "cell_type": "code",
   "execution_count": null,
   "id": "866d3b09",
   "metadata": {},
   "outputs": [],
   "source": [
    "num_cols=['Age','Fare','Fare_Per_Head', 'Magic_1', 'Magic_2','Family']\n",
    "cat_cols=['Sex', 'Embarked', 'Title', 'Titles', 'Cabin_Avalability',\n",
    "       'Family_Cat','Pclass','Sibsp',]"
   ]
  },
  {
   "cell_type": "markdown",
   "id": "31c5bd1a",
   "metadata": {},
   "source": [
    "#### Numeric vs Tgt"
   ]
  },
  {
   "cell_type": "code",
   "execution_count": null,
   "id": "a76d4f72",
   "metadata": {},
   "outputs": [],
   "source": [
    "# Ho: Feature is not significant\n",
    "# Ha: Feature is significant\n",
    "for i in num_cols:\n",
    "    sample1=new_data.groupby(['Survived'])[i].apply(list)[0]\n",
    "    sample2=new_data.groupby(['Survived'])[i].apply(list)[1]\n",
    "    ttest,pvalue=stats.ttest_ind(sample1,sample2)\n",
    "    print(i,'---------',(pvalue))\n",
    "# Except Family all features are significant with the Target"
   ]
  },
  {
   "cell_type": "markdown",
   "id": "e8277ba5",
   "metadata": {},
   "source": [
    "##### Categoric Vs Tgt"
   ]
  },
  {
   "cell_type": "code",
   "execution_count": null,
   "id": "af394e2f",
   "metadata": {},
   "outputs": [],
   "source": [
    "for i in cat_cols:\n",
    "    table=pd.crosstab(new_data.Sex,new_data.Survived)\n",
    "    teststats,pvalue,dof,expected=stats.chi2_contingency(table)\n",
    "    print(i,'-------------',pvalue)\n",
    "# All the Features are Statistically Significant with Target"
   ]
  },
  {
   "cell_type": "code",
   "execution_count": null,
   "id": "de6b8187",
   "metadata": {},
   "outputs": [],
   "source": [
    "# Drop the Insignificant columns from the Above Analysis\n",
    "new_data.drop(columns=['Family'],inplace=True)"
   ]
  },
  {
   "cell_type": "code",
   "execution_count": null,
   "id": "719d4c81",
   "metadata": {},
   "outputs": [],
   "source": [
    "#Spilt train,test data set\n",
    "train.shape,test.shape"
   ]
  },
  {
   "cell_type": "code",
   "execution_count": null,
   "id": "52edaff1",
   "metadata": {},
   "outputs": [],
   "source": [
    "newtrain=new_data.loc[0:train.shape[0]-1,:]"
   ]
  },
  {
   "cell_type": "code",
   "execution_count": null,
   "id": "62975c38",
   "metadata": {},
   "outputs": [],
   "source": [
    "newtrain.head()"
   ]
  },
  {
   "cell_type": "code",
   "execution_count": null,
   "id": "1785b171",
   "metadata": {},
   "outputs": [],
   "source": [
    "new_test=new_data.loc[train.shape[0]:,:]"
   ]
  },
  {
   "cell_type": "code",
   "execution_count": null,
   "id": "ef859981",
   "metadata": {},
   "outputs": [],
   "source": [
    "new_test.head()"
   ]
  },
  {
   "cell_type": "code",
   "execution_count": null,
   "id": "97195fc7",
   "metadata": {},
   "outputs": [],
   "source": [
    "newtrain.shape,new_test.shape"
   ]
  },
  {
   "cell_type": "code",
   "execution_count": null,
   "id": "c3dabd50",
   "metadata": {},
   "outputs": [],
   "source": [
    "new_test.drop(columns='Survived',inplace=True)"
   ]
  },
  {
   "cell_type": "code",
   "execution_count": null,
   "id": "ee431f0d",
   "metadata": {},
   "outputs": [],
   "source": [
    "new_test.head()"
   ]
  },
  {
   "cell_type": "code",
   "execution_count": null,
   "id": "f281dc2a",
   "metadata": {},
   "outputs": [],
   "source": [
    "newtrain.shape,new_test.shape"
   ]
  },
  {
   "cell_type": "markdown",
   "id": "175b27cf",
   "metadata": {},
   "source": [
    "## Scaling"
   ]
  },
  {
   "cell_type": "code",
   "execution_count": null,
   "id": "09630294",
   "metadata": {},
   "outputs": [],
   "source": [
    "newtrain.head()"
   ]
  },
  {
   "cell_type": "code",
   "execution_count": null,
   "id": "e864a568",
   "metadata": {},
   "outputs": [],
   "source": [
    "# Convert the Tgt into Int\n",
    "newtrain['Survived']=newtrain.Survived.astype('int')"
   ]
  },
  {
   "cell_type": "code",
   "execution_count": null,
   "id": "8c4b64e6",
   "metadata": {},
   "outputs": [],
   "source": [
    "newtrain.head(2)"
   ]
  },
  {
   "cell_type": "code",
   "execution_count": null,
   "id": "28b48efd",
   "metadata": {},
   "outputs": [],
   "source": [
    "# Scale the Age,Fare and Fare_per_Head,Magic_1,Magic_2\n",
    "cols=['Age','Fare','Fare_Per_Head','Magic_1','Magic_2']\n",
    "from sklearn.preprocessing import StandardScaler\n",
    "sc=StandardScaler()\n",
    "for i in cols:\n",
    "    newtrain.loc[:,cols]=sc.fit_transform(newtrain.loc[:,cols])\n",
    "    new_test.loc[:,cols]=sc.transform(new_test.loc[:,cols])"
   ]
  },
  {
   "cell_type": "code",
   "execution_count": null,
   "id": "687a4efa",
   "metadata": {},
   "outputs": [],
   "source": [
    "sns.distplot(combine.Fare)"
   ]
  },
  {
   "cell_type": "code",
   "execution_count": null,
   "id": "7164c837",
   "metadata": {},
   "outputs": [],
   "source": [
    "sns.distplot(sc.fit_transform(pd.DataFrame(new_test['Fare'])))"
   ]
  },
  {
   "cell_type": "code",
   "execution_count": null,
   "id": "fc82d7c0",
   "metadata": {},
   "outputs": [],
   "source": [
    "combine.describe()"
   ]
  },
  {
   "cell_type": "code",
   "execution_count": null,
   "id": "8e671d57",
   "metadata": {},
   "outputs": [],
   "source": [
    "newtrain.describe()"
   ]
  },
  {
   "cell_type": "code",
   "execution_count": null,
   "id": "a8171574",
   "metadata": {},
   "outputs": [],
   "source": [
    "new_test.describe()"
   ]
  },
  {
   "cell_type": "code",
   "execution_count": null,
   "id": "81614cda",
   "metadata": {},
   "outputs": [],
   "source": [
    "dummytrain=pd.get_dummies(newtrain,drop_first=True)\n",
    "dummytest=pd.get_dummies(new_test,drop_first=True)"
   ]
  },
  {
   "cell_type": "code",
   "execution_count": null,
   "id": "f2e0f719",
   "metadata": {},
   "outputs": [],
   "source": [
    "dummytrain.shape,dummytest.shape"
   ]
  },
  {
   "cell_type": "code",
   "execution_count": null,
   "id": "4da9e345",
   "metadata": {},
   "outputs": [],
   "source": [
    "dummytrain.head()"
   ]
  },
  {
   "cell_type": "code",
   "execution_count": null,
   "id": "097db510",
   "metadata": {},
   "outputs": [],
   "source": [
    "dummytest.head()"
   ]
  },
  {
   "cell_type": "markdown",
   "id": "eb1fc05e",
   "metadata": {},
   "source": [
    "* **Data is ready for Modelling***"
   ]
  },
  {
   "cell_type": "markdown",
   "id": "ca98ca37",
   "metadata": {},
   "source": [
    "### Lets Build a Base Model"
   ]
  },
  {
   "cell_type": "code",
   "execution_count": null,
   "id": "16ce5dc7",
   "metadata": {},
   "outputs": [],
   "source": [
    "X=dummytrain.drop(columns=['Survived'])\n",
    "y=dummytrain.Survived"
   ]
  },
  {
   "cell_type": "code",
   "execution_count": null,
   "id": "e889fc43",
   "metadata": {},
   "outputs": [],
   "source": [
    "# 70:30 train test spilt\n",
    "xtrain,xtest,ytrain,ytest=train_test_split(X,y,random_state=12,stratify=y,test_size=0.30)"
   ]
  },
  {
   "cell_type": "code",
   "execution_count": null,
   "id": "bcf60f9a",
   "metadata": {},
   "outputs": [],
   "source": [
    "xtrain.shape,ytrain.shape,xtest.shape,ytest.shape"
   ]
  },
  {
   "cell_type": "code",
   "execution_count": null,
   "id": "35b62043",
   "metadata": {},
   "outputs": [],
   "source": [
    "xtrain_c=sma.add_constant(xtrain)\n",
    "xtest_c=sma.add_constant(xtest)"
   ]
  },
  {
   "cell_type": "code",
   "execution_count": null,
   "id": "0ceaea68",
   "metadata": {},
   "outputs": [],
   "source": [
    "base_model=OLS(ytrain,xtrain_c).fit()"
   ]
  },
  {
   "cell_type": "code",
   "execution_count": null,
   "id": "2570b5c7",
   "metadata": {},
   "outputs": [],
   "source": [
    "print(base_model.summary())"
   ]
  },
  {
   "cell_type": "code",
   "execution_count": null,
   "id": "ebf39587",
   "metadata": {},
   "outputs": [],
   "source": [
    "y_pred_logit=base_model.predict(xtest_c)"
   ]
  },
  {
   "cell_type": "code",
   "execution_count": null,
   "id": "1a334dad",
   "metadata": {},
   "outputs": [],
   "source": [
    "y_pred_logit=pd.Series(np.where(y_pred_logit>0.50,1,0))"
   ]
  },
  {
   "cell_type": "code",
   "execution_count": null,
   "id": "cf6951f7",
   "metadata": {},
   "outputs": [],
   "source": [
    "y_pred_logit.value_counts()"
   ]
  },
  {
   "cell_type": "code",
   "execution_count": null,
   "id": "cf046513",
   "metadata": {},
   "outputs": [],
   "source": [
    "# Lets check the accuracy of Base Model\n",
    "print('Accuracy:',accuracy_score(ytest,y_pred_logit))"
   ]
  },
  {
   "cell_type": "code",
   "execution_count": null,
   "id": "5c2d99c5",
   "metadata": {},
   "outputs": [],
   "source": [
    "# Lets check the classification report\n",
    "from sklearn.metrics import classification_report,f1_score,confusion_matrix\n",
    "print('Classification_Report:\\n',classification_report(ytest,y_pred_logit))\n",
    "print('F1_score:',f1_score(ytest,y_pred_logit))"
   ]
  },
  {
   "cell_type": "markdown",
   "id": "7643ba9f",
   "metadata": {},
   "source": [
    "###### Obseravtion from Base Model: The accuracy is comes out to be  approx 82% and the F1score is approx 77%"
   ]
  },
  {
   "cell_type": "markdown",
   "id": "12e58186",
   "metadata": {},
   "source": [
    "#### Lets Apply diffrent Machine Learning Model"
   ]
  },
  {
   "cell_type": "code",
   "execution_count": null,
   "id": "7f0e6a68",
   "metadata": {},
   "outputs": [],
   "source": [
    "def base_models():\n",
    "    models=dict()\n",
    "    models['Logistic Regression']=LogisticRegression()\n",
    "    models['Decission Tree']=DecisionTreeClassifier()\n",
    "    models['Random Forest']=RandomForestClassifier()\n",
    "    models['Naive Bayes']=GaussianNB()\n",
    "    models['KNN']=KNeighborsClassifier()\n",
    "    models['Ada Boost']=AdaBoostClassifier()\n",
    "    models['Xgboost']=XGBClassifier()\n",
    "    models['Catboost']=CatBoostClassifier()\n",
    "    models['Light gbm']=LGBMClassifier()\n",
    "    models['GBM']=GradientBoostingClassifier()\n",
    "    return models"
   ]
  },
  {
   "cell_type": "code",
   "execution_count": null,
   "id": "d9e055e5",
   "metadata": {},
   "outputs": [],
   "source": [
    "def evaluation_score(model):\n",
    "    Cv=StratifiedKFold(n_splits=5,shuffle=True,random_state=12)\n",
    "    score=cross_val_score(estimator=model,X=X,y=y,scoring='accuracy',cv=Cv,error_score='raise',n_jobs=-1)\n",
    "    return score"
   ]
  },
  {
   "cell_type": "code",
   "execution_count": null,
   "id": "eaedf705",
   "metadata": {},
   "outputs": [],
   "source": [
    "models=base_models()\n",
    "result,names=list(),list()\n",
    "for name,model in models.items():\n",
    "    finalscore=evaluation_score(model)\n",
    "    result.append(finalscore)\n",
    "    names.append(name)\n",
    "    print('Model:',names[-1],'Mean_Score:',np.mean(result),'Variance:',np.std(result))"
   ]
  },
  {
   "cell_type": "code",
   "execution_count": null,
   "id": "10ab756b",
   "metadata": {},
   "outputs": [],
   "source": [
    "plt.boxplot(result,labels=names,showmeans=True)\n",
    "plt.xticks(rotation=90)\n",
    "plt.axhline(y=0.82)\n",
    "plt.ylabel('accuracy score')\n",
    "plt.title('Model Performance')\n",
    "plt.show()"
   ]
  },
  {
   "cell_type": "code",
   "execution_count": null,
   "id": "81b0faf8",
   "metadata": {},
   "outputs": [],
   "source": [
    "# Lets combine top 4 models,Logistic Regression,Xgboost,catboost,Light gbm"
   ]
  },
  {
   "cell_type": "code",
   "execution_count": null,
   "id": "81aed132",
   "metadata": {},
   "outputs": [],
   "source": [
    "base=[('log_reg',LogisticRegression()),('xgb',XGBClassifier()),('lgbm',LGBMClassifier())]\n",
    "final=[('catboost',CatBoostClassifier())]"
   ]
  },
  {
   "cell_type": "code",
   "execution_count": null,
   "id": "236ce5e1",
   "metadata": {},
   "outputs": [],
   "source": [
    "Cv=StratifiedKFold(n_splits=5,shuffle=True,random_state=42)"
   ]
  },
  {
   "cell_type": "code",
   "execution_count": null,
   "id": "70822733",
   "metadata": {},
   "outputs": [],
   "source": [
    "stack=StackingClassifier(estimators=base,final_estimator=CatBoostClassifier(),cv=Cv) "
   ]
  },
  {
   "cell_type": "code",
   "execution_count": null,
   "id": "ba8baea9",
   "metadata": {},
   "outputs": [],
   "source": [
    "model_stack=stack.fit(X,y)"
   ]
  },
  {
   "cell_type": "code",
   "execution_count": null,
   "id": "9bf0f6ab",
   "metadata": {},
   "outputs": [],
   "source": [
    "y_pred_stack=model_stack.predict(dummytest)"
   ]
  },
  {
   "cell_type": "code",
   "execution_count": null,
   "id": "7a54e1a5",
   "metadata": {},
   "outputs": [],
   "source": [
    "y_pred_stack"
   ]
  },
  {
   "cell_type": "code",
   "execution_count": null,
   "id": "4e89dbd4",
   "metadata": {},
   "outputs": [],
   "source": [
    "pd.Series(y_pred_stack).value_counts()"
   ]
  },
  {
   "cell_type": "code",
   "execution_count": null,
   "id": "9ef9e51a",
   "metadata": {},
   "outputs": [],
   "source": [
    "# Load submission File\n",
    "submission=pd.read_csv(r\"C:\\Users\\saxen\\ML PROJECTS\\TITANIC\\gender_submission.csv\")\n",
    "submission.head()"
   ]
  },
  {
   "cell_type": "code",
   "execution_count": null,
   "id": "825707bd",
   "metadata": {},
   "outputs": [],
   "source": [
    "submission['Survived']=y_pred_stack"
   ]
  },
  {
   "cell_type": "code",
   "execution_count": null,
   "id": "9aed82e1",
   "metadata": {},
   "outputs": [],
   "source": [
    "submission.head()"
   ]
  },
  {
   "cell_type": "code",
   "execution_count": null,
   "id": "d496fbd1",
   "metadata": {},
   "outputs": [],
   "source": [
    "submission.to_csv('Titanic_stacking_final.csv',index=False) #0.76315,Rank 12287"
   ]
  },
  {
   "cell_type": "markdown",
   "id": "312fe368",
   "metadata": {},
   "source": [
    "#### Cat Boost"
   ]
  },
  {
   "cell_type": "code",
   "execution_count": null,
   "id": "ccd4db20",
   "metadata": {},
   "outputs": [],
   "source": [
    "cat=CatBoostClassifier()"
   ]
  },
  {
   "cell_type": "code",
   "execution_count": null,
   "id": "9e24d72c",
   "metadata": {},
   "outputs": [],
   "source": [
    "y_pred_cat=cat.fit(X,y).predict(dummytest)"
   ]
  },
  {
   "cell_type": "code",
   "execution_count": null,
   "id": "963705d8",
   "metadata": {},
   "outputs": [],
   "source": [
    "pd.Series(y_pred_cat).value_counts()"
   ]
  },
  {
   "cell_type": "code",
   "execution_count": null,
   "id": "9c931d84",
   "metadata": {},
   "outputs": [],
   "source": [
    "submission=pd.read_csv(r\"C:\\Users\\saxen\\ML PROJECTS\\TITANIC\\gender_submission.csv\")\n",
    "submission.head()"
   ]
  },
  {
   "cell_type": "code",
   "execution_count": null,
   "id": "6a64cff3",
   "metadata": {},
   "outputs": [],
   "source": [
    "submission['Survived']=y_pred_cat"
   ]
  },
  {
   "cell_type": "code",
   "execution_count": null,
   "id": "567a2c30",
   "metadata": {},
   "outputs": [],
   "source": [
    "submission.to_csv('Titanic_cat_final.csv',index=False)  #0.77033"
   ]
  },
  {
   "cell_type": "markdown",
   "id": "3a0ce826",
   "metadata": {},
   "source": [
    "#### Logistic Regression"
   ]
  },
  {
   "cell_type": "code",
   "execution_count": null,
   "id": "9f5f6c64",
   "metadata": {},
   "outputs": [],
   "source": [
    "log=LogisticRegression()"
   ]
  },
  {
   "cell_type": "code",
   "execution_count": null,
   "id": "b8d21433",
   "metadata": {},
   "outputs": [],
   "source": [
    "y_pred_log=log.fit(X,y).predict(dummytest)"
   ]
  },
  {
   "cell_type": "code",
   "execution_count": null,
   "id": "f5e262f6",
   "metadata": {},
   "outputs": [],
   "source": [
    "submission=pd.read_csv(r\"C:\\Users\\saxen\\ML PROJECTS\\TITANIC\\gender_submission.csv\")\n",
    "submission.head()"
   ]
  },
  {
   "cell_type": "code",
   "execution_count": null,
   "id": "4bb2eec3",
   "metadata": {},
   "outputs": [],
   "source": [
    "submission['Survived']=y_pred_log"
   ]
  },
  {
   "cell_type": "code",
   "execution_count": null,
   "id": "78d24418",
   "metadata": {},
   "outputs": [],
   "source": [
    "submission.to_csv('Titanic_log_final.csv',index=False)  #0.77272"
   ]
  },
  {
   "cell_type": "markdown",
   "id": "6b3a571f",
   "metadata": {},
   "source": [
    "#### Gradient Boosting"
   ]
  },
  {
   "cell_type": "code",
   "execution_count": null,
   "id": "77df18d7",
   "metadata": {},
   "outputs": [],
   "source": [
    "gbm=GradientBoostingClassifier()"
   ]
  },
  {
   "cell_type": "code",
   "execution_count": null,
   "id": "c13da2aa",
   "metadata": {},
   "outputs": [],
   "source": [
    "y_pred_gbm=gbm.fit(X,y).predict(dummytest)"
   ]
  },
  {
   "cell_type": "code",
   "execution_count": null,
   "id": "b6288d18",
   "metadata": {},
   "outputs": [],
   "source": [
    "submission=pd.read_csv(r\"C:\\Users\\saxen\\ML PROJECTS\\TITANIC\\gender_submission.csv\")\n",
    "submission.head()"
   ]
  },
  {
   "cell_type": "code",
   "execution_count": null,
   "id": "aa5a60ce",
   "metadata": {},
   "outputs": [],
   "source": [
    "submission['Survived']=y_pred_gbm"
   ]
  },
  {
   "cell_type": "code",
   "execution_count": null,
   "id": "a55a7c9e",
   "metadata": {},
   "outputs": [],
   "source": [
    "submission.to_csv('Titanic_gbm_final.csv',index=False)  #0.77272"
   ]
  },
  {
   "cell_type": "markdown",
   "id": "738fd9d2",
   "metadata": {},
   "source": [
    "##### As i can see in Logistics Regression Model i got the Highest Accuracy,so lets tuned"
   ]
  },
  {
   "cell_type": "code",
   "execution_count": null,
   "id": "dea97224",
   "metadata": {},
   "outputs": [],
   "source": [
    "Cv=StratifiedKFold(n_splits=5,shuffle=True,random_state=42)"
   ]
  },
  {
   "cell_type": "code",
   "execution_count": null,
   "id": "9b523efa",
   "metadata": {},
   "outputs": [],
   "source": [
    "log_reg = LogisticRegression(max_iter=1000)\n",
    "param_grid = {'penalty': ['l1', 'l2'],\n",
    "              'C': [0.001, 0.01, 0.1, 1, 10, 100],\n",
    "              'solver': ['liblinear', 'saga']}\n",
    "grid_search = GridSearchCV(log_reg, param_grid, cv=Cv, n_jobs=-1)\n",
    "\n",
    "grid_search.fit(X, y)\n",
    "\n",
    "print(\"Best hyperparameters: \", grid_search.best_params_)\n",
    "print(\"Accuracy score: \", grid_search.best_score_)\n"
   ]
  },
  {
   "cell_type": "code",
   "execution_count": null,
   "id": "138c0dbc",
   "metadata": {},
   "outputs": [],
   "source": [
    "log_reg=LogisticRegression(C=10,penalty='l1',solver='liblinear')"
   ]
  },
  {
   "cell_type": "code",
   "execution_count": null,
   "id": "9fbf3f8b",
   "metadata": {},
   "outputs": [],
   "source": [
    "y_pred_tun_log=log_reg.fit(X,y).predict(dummytest)"
   ]
  },
  {
   "cell_type": "code",
   "execution_count": null,
   "id": "749653e1",
   "metadata": {},
   "outputs": [],
   "source": [
    "submission=pd.read_csv(r\"C:\\Users\\saxen\\ML PROJECTS\\TITANIC\\gender_submission.csv\")"
   ]
  },
  {
   "cell_type": "code",
   "execution_count": null,
   "id": "cdb32480",
   "metadata": {},
   "outputs": [],
   "source": [
    "submission['Survived']=y_pred_tun_log"
   ]
  },
  {
   "cell_type": "code",
   "execution_count": null,
   "id": "fe13fc04",
   "metadata": {},
   "outputs": [],
   "source": [
    "submission.to_csv('Titanic_logtun_final.csv',index=False)  #0.77511"
   ]
  },
  {
   "cell_type": "markdown",
   "id": "60d77c20",
   "metadata": {},
   "source": [
    "### Lets Tuned the cat Boost Model"
   ]
  },
  {
   "cell_type": "code",
   "execution_count": null,
   "id": "8bede03b",
   "metadata": {},
   "outputs": [],
   "source": [
    "cat=CatBoostClassifier()"
   ]
  },
  {
   "cell_type": "code",
   "execution_count": null,
   "id": "14c3ce23",
   "metadata": {},
   "outputs": [],
   "source": [
    "Cv=StratifiedKFold(n_splits=5,shuffle=True,random_state=42)"
   ]
  },
  {
   "cell_type": "code",
   "execution_count": null,
   "id": "aefc28c4",
   "metadata": {},
   "outputs": [],
   "source": [
    "param_grid = {'learning_rate': [0.01, 0.05, 0.1],\n",
    "              'depth': [3, 5, 7],\n",
    "              'iterations': [100, 200, 300]}\n",
    "grid_search = GridSearchCV(cat, param_grid, cv=Cv, n_jobs=-1)\n",
    "\n",
    "grid_search.fit(X, y)\n",
    "print(\"Best hyperparameters: \", grid_search.best_params_)\n",
    "print(\"Accuracy score: \", grid_search.best_score_)\n"
   ]
  },
  {
   "cell_type": "code",
   "execution_count": null,
   "id": "216ed004",
   "metadata": {},
   "outputs": [],
   "source": [
    "#Best hyperparameters:  {'depth': 3, 'iterations': 200, 'learning_rate': 0.1}\n",
    "#Accuracy score:  0.8495951289937856\n",
    "cat=CatBoostClassifier(depth=3,iterations=200,learning_rate=0.1)"
   ]
  },
  {
   "cell_type": "code",
   "execution_count": null,
   "id": "8e0777be",
   "metadata": {},
   "outputs": [],
   "source": [
    "y_pred_tun_cat=cat.fit(X,y).predict(dummytest)"
   ]
  },
  {
   "cell_type": "code",
   "execution_count": null,
   "id": "926226ab",
   "metadata": {},
   "outputs": [],
   "source": [
    "y_pred_tun_cat"
   ]
  },
  {
   "cell_type": "code",
   "execution_count": null,
   "id": "73723d89",
   "metadata": {},
   "outputs": [],
   "source": [
    "submission=pd.read_csv(r\"C:\\Users\\saxen\\ML PROJECTS\\TITANIC\\gender_submission.csv\")"
   ]
  },
  {
   "cell_type": "code",
   "execution_count": null,
   "id": "b658164e",
   "metadata": {},
   "outputs": [],
   "source": [
    "submission['Survived']=y_pred_tun_cat"
   ]
  },
  {
   "cell_type": "code",
   "execution_count": null,
   "id": "613879be",
   "metadata": {},
   "outputs": [],
   "source": [
    "submission.to_csv('Titanic_final.csv',index=False)  #Score: 0.75358"
   ]
  },
  {
   "cell_type": "markdown",
   "id": "66425327",
   "metadata": {},
   "source": [
    "* **After fitting different Machine learning Model,I find out that the Tuned Logistic Regression Model give me the Highest Accuracy as comapres to others,so i will consider this will be my final model**\n"
   ]
  },
  {
   "cell_type": "markdown",
   "id": "ba8a8b0b",
   "metadata": {},
   "source": [
    "  `**END**`"
   ]
  },
  {
   "cell_type": "code",
   "execution_count": null,
   "id": "5175f96b",
   "metadata": {},
   "outputs": [],
   "source": [
    "cd"
   ]
  },
  {
   "cell_type": "code",
   "execution_count": null,
   "id": "02788f2f",
   "metadata": {},
   "outputs": [],
   "source": []
  }
 ],
 "metadata": {
  "kernelspec": {
   "display_name": "Python 3 (ipykernel)",
   "language": "python",
   "name": "python3"
  },
  "language_info": {
   "codemirror_mode": {
    "name": "ipython",
    "version": 3
   },
   "file_extension": ".py",
   "mimetype": "text/x-python",
   "name": "python",
   "nbconvert_exporter": "python",
   "pygments_lexer": "ipython3",
   "version": "3.10.9"
  }
 },
 "nbformat": 4,
 "nbformat_minor": 5
}
